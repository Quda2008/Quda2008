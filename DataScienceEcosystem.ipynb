{
 "cells": [
  {
   "cell_type": "markdown",
   "id": "e64e8c0e",
   "metadata": {},
   "source": [
    "# Data Science Tools and Ecosystem\n",
    "\n"
   ]
  },
  {
   "cell_type": "markdown",
   "id": "b21849ac",
   "metadata": {},
   "source": [
    "In this notebook,Data Science Tools and Ecosystems are summarized.\n"
   ]
  },
  {
   "cell_type": "markdown",
   "id": "fcd2d716",
   "metadata": {},
   "source": [
    "<b>Objectives:</b>\n",
    "\n",
    "    - List popular languages for Data Science.\n",
    "    - Creating a single column table.\n",
    "    - Calculating simple arithmetic expressions.\n",
    "    - List commonly used libraries used by Data Scientists.\n",
    "    "
   ]
  },
  {
   "cell_type": "markdown",
   "id": "7b6474fe",
   "metadata": {},
   "source": [
    "Some of the popular languages that Data Scientists use are:\n",
    "1. Python\n",
    "2. R\n",
    "3. C#"
   ]
  },
  {
   "cell_type": "markdown",
   "id": "d452a950",
   "metadata": {},
   "source": [
    "Some of the commonly used libraries used by Data Scientists include:\n",
    "1. Pandas\n",
    "2. Matplot\n",
    "3. Scikit-learn"
   ]
  },
  {
   "cell_type": "markdown",
   "id": "712a75d1",
   "metadata": {},
   "source": [
    " |Data Science Tools|\n",
    " :------------------:\n",
    " |Anaconda          |\n",
    " |R Studio's        |\n",
    " |Jupyter Notebooks |"
   ]
  },
  {
   "cell_type": "markdown",
   "id": "4534d5b0",
   "metadata": {},
   "source": [
    "### Below are a few examples of evaluating arithmetic expressions in Python:\n",
    "1 + 2 * 6 =\n",
    "\n",
    "20 / 4 = \n",
    "\n",
    "66 / 3 * 3 ="
   ]
  },
  {
   "cell_type": "code",
   "execution_count": 1,
   "id": "c48e570f",
   "metadata": {},
   "outputs": [
    {
     "data": {
      "text/plain": [
       "17"
      ]
     },
     "execution_count": 1,
     "metadata": {},
     "output_type": "execute_result"
    }
   ],
   "source": [
    "#This a simple arithmetic expression to mutiply then add integers\n",
    "\n",
    "(3*4)+5\n"
   ]
  },
  {
   "cell_type": "code",
   "execution_count": 4,
   "id": "eea23327",
   "metadata": {},
   "outputs": [
    {
     "name": "stdout",
     "output_type": "stream",
     "text": [
      "3.3333333333333335 hours\n"
     ]
    }
   ],
   "source": [
    "#This will convert 200 minutes to hours by diving by 60.\n",
    "mins = 200\n",
    "hours = mins/60\n",
    "print(hours ,\"hours\")\n"
   ]
  },
  {
   "cell_type": "markdown",
   "id": "8cc6974b",
   "metadata": {},
   "source": [
    "## Author\n",
    "Kudakwashe Gombe"
   ]
  },
  {
   "cell_type": "code",
   "execution_count": null,
   "id": "d881caa7",
   "metadata": {},
   "outputs": [],
   "source": []
  }
 ],
 "metadata": {
  "kernelspec": {
   "display_name": "Python 3 (ipykernel)",
   "language": "python",
   "name": "python3"
  },
  "language_info": {
   "codemirror_mode": {
    "name": "ipython",
    "version": 3
   },
   "file_extension": ".py",
   "mimetype": "text/x-python",
   "name": "python",
   "nbconvert_exporter": "python",
   "pygments_lexer": "ipython3",
   "version": "3.11.5"
  }
 },
 "nbformat": 4,
 "nbformat_minor": 5
}
